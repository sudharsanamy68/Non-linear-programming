{
 "cells": [
  {
   "attachments": {
    "b3219732-8e60-4341-80a3-c09a421e4bd9.png": {
     "image/png": "[encoded data removed]"
    }
   },
   "cell_type": "markdown",
   "metadata": {},
   "source": [
    "![Screenshot from 2024-04-23 00-14-13.png](attachment:b3219732-8e60-4341-80a3-c09a421e4bd9.png)"
   ]
  },
  {
   "cell_type": "code",
   "execution_count": 1,
   "metadata": {},
   "outputs": [
    {
     "name": "stdout",
     "output_type": "stream",
     "text": [
      "[(95/32, 1/8, 2)]\n",
      "Stationary point: (x1, x2, λ) = (2.969, 0.125, 2.000), z = -6.400\n",
      "f* value = 16.062\n",
      "New value of f* after tightening the constraint by 1 unit: 14.0625000000000\n",
      "New value of f* after relaxing the constraint by 2 units: 20.0625000000000\n"
     ]
    }
   ],
   "source": [
    "import sympy as sp\n",
    "\n",
    "# Define the variables\n",
    "x1, x2, z, λ = sp.symbols('x1 x2 z λ')\n",
    "\n",
    "# Define the objective function and the constraint\n",
    "f = 2*x1 + x2 + 10\n",
    "g = 3 - x1 - 2*x2**2\n",
    "\n",
    "# Define the Lagrange function\n",
    "L = f + λ*g\n",
    "\n",
    "# Step 1: Find stationary points by solving ∇L = 0\n",
    "stationary_points = sp.solve([sp.diff(L, var) for var in (x1, x2, λ)], (x1, x2, λ))\n",
    "print(stationary_points)\n",
    "\n",
    "# Step 2: Solve the Hessian matrix to get z values\n",
    "for point in stationary_points:\n",
    "    x1_val, x2_val, λ_val = point\n",
    "\n",
    "    # Calculate Hessian matrix\n",
    "    L11 = sp.diff(L, x1, x1).subs({x1: x1_val, x2: x2_val, λ: λ_val})\n",
    "    L12 = sp.diff(L, x1, x2).subs({x1: x1_val, x2: x2_val, λ: λ_val})\n",
    "    L21 = sp.diff(L, x2, x1).subs({x1: x1_val, x2: x2_val, λ: λ_val})\n",
    "    L22 = sp.diff(L, x2, x2).subs({x1: x1_val, x2: x2_val, λ: λ_val})\n",
    "\n",
    "    g11 = sp.diff(g, x1).subs({x1: x1_val, x2: x2_val})\n",
    "    g12 = sp.diff(g, x2).subs({x1: x1_val, x2: x2_val})\n",
    "\n",
    "    hessian_matrix = sp.Matrix([[L11 - z, L12, g11],\n",
    "                                [L21, L22 - z, g12],\n",
    "                                [g11, g12, 0]])\n",
    "\n",
    "    z_values = sp.solve(hessian_matrix.det(), z)\n",
    "\n",
    "    # Choose a z value\n",
    "    z_value = max(z_values).evalf()  # Choose the maximum value of z\n",
    "\n",
    "    # Calculate f* using the obtained z value\n",
    "    f_star = f.subs({x1: x1_val, x2: x2_val, λ: λ_val, z: z_value}).evalf()\n",
    "    \n",
    "    # Print the results with 3 decimal points\n",
    "    print(f\"Stationary point: (x1, x2, λ) = ({x1_val.evalf():.3f}, {x2_val.evalf():.3f}, {λ_val.evalf():.3f}), z = {z_value.evalf():.3f}\")\n",
    "    print(f\"f* value = {f_star.evalf():.3f}\")\n",
    "\n",
    "    # Step 4: Calculate the effect on f* when constraint is tightened by 1 unit (db = -1)\n",
    "    λ_value = λ_val\n",
    "\n",
    "    # Calculate the new value of f* when constraint is tightened by 1 unit (db = -1)\n",
    "    db_tightened = -1\n",
    "    df_star_tightened = λ_value * db_tightened\n",
    "    f_star_tightened = f_star + df_star_tightened\n",
    "\n",
    "   # Calculate the new value of f* when constraint is relaxed by 2 units (db = 2)\n",
    "    db_relaxed = 2\n",
    "    df_star_relaxed = λ_value * db_relaxed\n",
    "    f_star_relaxed = f_star + df_star_relaxed\n",
    "\n",
    "    print(\"New value of f* after tightening the constraint by 1 unit:\", f_star_tightened.evalf())\n",
    "    print(\"New value of f* after relaxing the constraint by 2 units:\", f_star_relaxed.evalf())"
   ]
  },
  {
   "cell_type": "code",
   "execution_count": 2,
   "metadata": {},
   "outputs": [
    {
     "name": "stdout",
     "output_type": "stream",
     "text": [
      "Optimal values:\n",
      "x1*:  95/32\n",
      "x2*:  1/8\n",
      "λ*:  2\n",
      "f*:  257/16\n",
      "Effect of changing the right-hand side of the constraint:\n",
      "If db = -1, f* changes by: -2\n",
      "New f* with db = -1: 225/16\n",
      "If db = 2, f* changes by: 4\n",
      "New f* with db = 2: 321/16\n"
     ]
    }
   ],
   "source": [
    "import sympy as sp\n",
    "\n",
    "# Define the variables\n",
    "x1, x2, λ = sp.symbols('x1 x2 λ')\n",
    "\n",
    "# Define the objective function and the constraint\n",
    "f = 2*x1 + x2 + 10\n",
    "g = 3 - x1 - 2*x2**2\n",
    "\n",
    "# Define the Lagrange function\n",
    "L = f + λ*g\n",
    "\n",
    "# Calculate the necessary conditions\n",
    "grad_L = [sp.diff(L, var) for var in (x1, x2, λ)]\n",
    "solutions = sp.solve(grad_L, (x1, x2, λ))\n",
    "\n",
    "# Extract the optimal solution\n",
    "x1_opt, x2_opt, λ_opt = solutions[0]\n",
    "\n",
    "# Calculate the Hessian matrix of L\n",
    "Hessian_L = sp.Matrix([[sp.diff(L, var1, var2) for var1 in (x1, x2, λ)] for var2 in (x1, x2, λ)])\n",
    "Hessian_g = sp.Matrix([[sp.diff(g, var1, var2) for var1 in (x1, x2)] for var2 in (x1, x2)])\n",
    "Hessian_L_subs = Hessian_L.subs({x1: x1_opt, x2: x2_opt, λ: λ_opt})\n",
    "\n",
    "# Calculate the determinant of the bordered Hessian matrix\n",
    "z = sp.symbols('z')\n",
    "bordered_Hessian = sp.Matrix([[Hessian_L_subs[0, 0] - z, Hessian_L_subs[0, 1], Hessian_g[0]],\n",
    "                              [Hessian_L_subs[1, 0], Hessian_L_subs[1, 1] - z, Hessian_g[1]],\n",
    "                              [Hessian_g[0], Hessian_g[1], 0]])\n",
    "determinant = bordered_Hessian.det()\n",
    "\n",
    "# Calculate the optimum value of f\n",
    "f_opt = f.subs({x1: x1_opt, x2: x2_opt})\n",
    "\n",
    "# Calculate the effect of changing the right-hand side of the constraint\n",
    "df_db = λ_opt * sp.Symbol('db')\n",
    "\n",
    "# Substitute db = -1 and db = 2 to find the change in f_opt\n",
    "df_db_minus_1 = df_db.subs({'db': -1})\n",
    "df_db_2 = df_db.subs({'db': 2})\n",
    "\n",
    "f_opt_minus_1 = f_opt + df_db_minus_1\n",
    "f_opt_2 = f_opt + df_db_2\n",
    "\n",
    "# Print the results\n",
    "print(\"Optimal values:\")\n",
    "print(\"x1*: \", x1_opt)\n",
    "print(\"x2*: \", x2_opt)\n",
    "print(\"λ*: \", λ_opt)\n",
    "print(\"f*: \", f_opt)\n",
    "print(\"Effect of changing the right-hand side of the constraint:\")\n",
    "print(\"If db = -1, f* changes by:\", df_db_minus_1)\n",
    "print(\"New f* with db = -1:\", f_opt_minus_1)\n",
    "print(\"If db = 2, f* changes by:\", df_db_2)\n",
    "print(\"New f* with db = 2:\", f_opt_2)"
   ]
  },
  {
   "attachments": {
    "5a263808-6c37-4fce-bade-d89c0f739553.png": {
     "image/png": "[encoded data removed]"
    }
   },
   "cell_type": "markdown",
   "metadata": {},
   "source": [
    "![Screenshot from 2024-04-23 00-13-24.png](attachment:5a263808-6c37-4fce-bade-d89c0f739553.png)"
   ]
  },
  {
   "cell_type": "code",
   "execution_count": 3,
   "metadata": {},
   "outputs": [
    {
     "name": "stdout",
     "output_type": "stream",
     "text": [
      "Stationary point: (x1, x2, x3, λ) = (1.333, 0.778, 0.444, 0.222), z = -6.400\n",
      "f* value = 0.111\n"
     ]
    }
   ],
   "source": [
    "import sympy as sp\n",
    "\n",
    "# Define the variables\n",
    "x1, x2, x3, λ, z = sp.symbols('x1 x2 x3 λ z')\n",
    "\n",
    "# Define the objective function and the constraint\n",
    "f = 9 - 8*x1 - 6*x2 - 4*x3 + 2*x1**2 + 2*x2**2 + x3**2 + 2*x1*x2 + 2*x1*x3\n",
    "g = x1 + x2 + 2*x3 -3\n",
    "\n",
    "# Define the Lagrange function\n",
    "L = f + λ*g\n",
    "\n",
    "# Step 1: Find stationary points by solving ∇L = 0\n",
    "stationary_points = sp.solve([sp.diff(L, var) for var in (x1, x2, x3, λ)], (x1, x2, x3, λ))\n",
    "\n",
    "# Extract values only from the stationary points and convert to floating-point numbers\n",
    "stationary_values = [tuple([val.evalf() for val in stationary_points.values()])]\n",
    "\n",
    "# Step 2: Solve the Hessian matrix to get z values\n",
    "for point in stationary_values:\n",
    "    x1_val, x2_val, x3_val, λ_val  = point\n",
    "\n",
    "    # Calculate Hessian matrix\n",
    "    L11 = sp.diff(L, x1, x1).subs({x1: x1_val, x2: x2_val, x3: x3_val, λ: λ_val})\n",
    "    L12 = sp.diff(L, x1, x2).subs({x1: x1_val, x2: x2_val, x3: x3_val, λ: λ_val})\n",
    "    L13 = sp.diff(L, x1, x3).subs({x1: x1_val, x2: x2_val, x3: x3_val, λ: λ_val})\n",
    "    L21 = sp.diff(L, x2, x1).subs({x1: x1_val, x2: x2_val, x3: x3_val, λ: λ_val})\n",
    "    L22 = sp.diff(L, x2, x2).subs({x1: x1_val, x2: x2_val, x3: x3_val, λ: λ_val})\n",
    "    L23 = sp.diff(L, x2, x3).subs({x1: x1_val, x2: x2_val, x3: x3_val, λ: λ_val})\n",
    "    L31 = sp.diff(L, x3, x1).subs({x1: x1_val, x2: x2_val, x3: x3_val, λ: λ_val})\n",
    "    L32 = sp.diff(L, x3, x2).subs({x1: x1_val, x2: x2_val, x3: x3_val, λ: λ_val})\n",
    "    L33 = sp.diff(L, x3, x3).subs({x1: x1_val, x2: x2_val, x3: x3_val, λ: λ_val})\n",
    "\n",
    "    g11 = sp.diff(g, x1).subs({x1: x1_val, x2: x2_val, x3: x3_val})\n",
    "    g12 = sp.diff(g, x2).subs({x1: x1_val, x2: x2_val, x3: x3_val})\n",
    "    g13 = sp.diff(g, x3).subs({x1: x1_val, x2: x2_val, x3: x3_val})\n",
    "\n",
    "    hessian_matrix = sp.Matrix([[L11-z, L12, L13, g11],\n",
    "                                 [L21, L22-z, L23, g12],\n",
    "                                 [L31, L32, L33-z, g13],\n",
    "                                 [g11, g12, g13, 0]])\n",
    "\n",
    "    z_values = sp.solve(hessian_matrix.det(), z)\n",
    "\n",
    "    # Choose a λ value\n",
    "    λ_value = max(z_values).evalf()  # Choose the maximum value of λ\n",
    "\n",
    "    # Calculate f* using the obtained λ1 value\n",
    "    f_star = f.subs({x1: x1_val, x2: x2_val, x3: x3_val, λ: λ_val}).evalf()\n",
    "\n",
    "    # Print the results with 3 decimal points\n",
    "    print(f\"Stationary point: (x1, x2, x3, λ) = ({x1_val.evalf():.3f}, {x2_val.evalf():.3f}, {x3_val.evalf():.3f}, {λ_val.evalf():.3f}), z = {z_value.evalf():.3f}\")\n",
    "    print(f\"f* value = {f_star.evalf():.3f}\")\n"
   ]
  },
  {
   "cell_type": "code",
   "execution_count": null,
   "metadata": {},
   "outputs": [],
   "source": []
  }
 ],
 "metadata": {
  "kernelspec": {
   "display_name": "Python 3",
   "language": "python",
   "name": "python3"
  },
  "language_info": {
   "codemirror_mode": {
    "name": "ipython",
    "version": 3
   },
   "file_extension": ".py",
   "mimetype": "text/x-python",
   "name": "python",
   "nbconvert_exporter": "python",
   "pygments_lexer": "ipython3",
   "version": "3.8.5"
  }
 },
 "nbformat": 4,
 "nbformat_minor": 5
}
