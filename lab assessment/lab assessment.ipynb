{
 "cells": [
  {
   "cell_type": "markdown",
   "metadata": {},
   "source": [
    "### 1. newton method"
   ]
  },
  {
   "cell_type": "code",
   "execution_count": 3,
   "metadata": {},
   "outputs": [],
   "source": [
    "import numpy as np\n",
    "import matplotlib.pyplot as plt"
   ]
  },
  {
   "cell_type": "code",
   "execution_count": 4,
   "metadata": {},
   "outputs": [],
   "source": [
    "def f(x):\n",
    "    return 0.65 - (0.75 / (1 + x**2)) - 0.65 * x * np.arctan(1/x)"
   ]
  },
  {
   "cell_type": "code",
   "execution_count": 5,
   "metadata": {},
   "outputs": [],
   "source": [
    "def f_prime(x):\n",
    "    return (1.3*x) / (1 + x**2)**2 - 0.65 * np.arctan(1/x) - 0.65\n",
    "def f_double_prime(x):\n",
    "    return (1.3*(1 - 3*x**2)) / (1 + x**2)**3 + 1.3 * (1/x) / (1 + x**2)**2\n"
   ]
  },
  {
   "cell_type": "code",
   "execution_count": 6,
   "metadata": {},
   "outputs": [],
   "source": [
    "def newton_method(x_0, tol=1e-6, max_iter=100):\n",
    "    x = x_0\n",
    "    for _ in range(max_iter):\n",
    "        x_new = x - f_prime(x) / f_double_prime(x)\n",
    "        if np.abs(x_new - x) < tol:\n",
    "            return x_new\n",
    "        x = x_new\n",
    "    return x"
   ]
  },
  {
   "cell_type": "code",
   "execution_count": 7,
   "metadata": {},
   "outputs": [],
   "source": [
    "x_0 = 1.5\n"
   ]
  },
  {
   "cell_type": "code",
   "execution_count": 8,
   "metadata": {},
   "outputs": [
    {
     "name": "stderr",
     "output_type": "stream",
     "text": [
      "<ipython-input-5-04d932834a50>:2: RuntimeWarning: overflow encountered in double_scalars\n",
      "  return (1.3*x) / (1 + x**2)**2 - 0.65 * np.arctan(1/x) - 0.65\n",
      "<ipython-input-5-04d932834a50>:4: RuntimeWarning: overflow encountered in double_scalars\n",
      "  return (1.3*(1 - 3*x**2)) / (1 + x**2)**3 + 1.3 * (1/x) / (1 + x**2)**2\n",
      "<ipython-input-6-88f7f3a5d0d1>:4: RuntimeWarning: divide by zero encountered in double_scalars\n",
      "  x_new = x - f_prime(x) / f_double_prime(x)\n",
      "<ipython-input-5-04d932834a50>:2: RuntimeWarning: invalid value encountered in double_scalars\n",
      "  return (1.3*x) / (1 + x**2)**2 - 0.65 * np.arctan(1/x) - 0.65\n",
      "<ipython-input-5-04d932834a50>:4: RuntimeWarning: invalid value encountered in double_scalars\n",
      "  return (1.3*(1 - 3*x**2)) / (1 + x**2)**3 + 1.3 * (1/x) / (1 + x**2)**2\n"
     ]
    }
   ],
   "source": [
    "optimal_x = newton_method(x_0)"
   ]
  },
  {
   "cell_type": "markdown",
   "metadata": {},
   "source": [
    "x_values = np.linspace(0, 3, 100)\n",
    "y_values = f(x_values)"
   ]
  },
  {
   "cell_type": "code",
   "execution_count": 10,
   "metadata": {},
   "outputs": [
    {
     "data": {
      "image/png": "[encoded data removed]",
      "text/plain": [
       "<Figure size 432x288 with 1 Axes>"
      ]
     },
     "metadata": {
      "needs_background": "light"
     },
     "output_type": "display_data"
    }
   ],
   "source": [
    "plt.plot(x_values, y_values, label='f(x)')\n",
    "plt.scatter(optimal_x, f(optimal_x), color='red', label='Optimal Point')\n",
    "plt.xlabel('x')\n",
    "plt.ylabel('f(x)')\n",
    "plt.title('Minimization of f(x)')\n",
    "plt.legend()\n",
    "plt.grid(True)\n",
    "plt.show()\n"
   ]
  },
  {
   "cell_type": "code",
   "execution_count": 11,
   "metadata": {},
   "outputs": [
    {
     "name": "stdout",
     "output_type": "stream",
     "text": [
      "Optimal x: nan\n",
      "Minimum value of f(x): nan\n"
     ]
    }
   ],
   "source": [
    "print(\"Optimal x:\", optimal_x)\n",
    "print(\"Minimum value of f(x):\", f(optimal_x))"
   ]
  },
  {
   "cell_type": "markdown",
   "metadata": {},
   "source": [
    "### 2. steepest descent method in multidimensional"
   ]
  },
  {
   "cell_type": "code",
   "execution_count": 42,
   "metadata": {},
   "outputs": [],
   "source": [
    "import numpy as np\n",
    "import matplotlib.pyplot as plt\n",
    "from scipy.optimize import minimize_scalar"
   ]
  },
  {
   "cell_type": "code",
   "execution_count": 43,
   "metadata": {},
   "outputs": [],
   "source": [
    "def steepest_descent(f, grad_f, x0, alpha=0.01, tol=1e-6, max_iter=1000):\n",
    "    x = x0\n",
    "    x_history = [x]\n",
    "    i = 1\n",
    "    while True:\n",
    "        grad = grad_f(x)\n",
    "        if np.linalg.norm(grad) < tol:\n",
    "            break\n",
    "        search_direction = -grad\n",
    "        def f_alpha(alpha): return f(x + alpha * search_direction)\n",
    "        alpha_opt = minimize_scalar(f_alpha).x\n",
    "        x = x + alpha_opt * search_direction\n",
    "        x_history.append(x)\n",
    "        i += 1\n",
    "        if i > max_iter:\n",
    "            break\n",
    "    return x, f(x), x_history"
   ]
  },
  {
   "cell_type": "code",
   "execution_count": 44,
   "metadata": {},
   "outputs": [],
   "source": [
    "def f(x):\n",
    "    return 3 * x[0]**2 + x[1]**2"
   ]
  },
  {
   "cell_type": "code",
   "execution_count": 45,
   "metadata": {},
   "outputs": [],
   "source": [
    "def grad_f(x):\n",
    "    return np.array([4 * x[0], 2 * x[1]])"
   ]
  },
  {
   "cell_type": "code",
   "execution_count": 46,
   "metadata": {},
   "outputs": [],
   "source": [
    "x0 = np.array([1, 2])"
   ]
  },
  {
   "cell_type": "code",
   "execution_count": 47,
   "metadata": {},
   "outputs": [],
   "source": [
    "x_opt, f_opt, x_history = steepest_descent(f, grad_f, x0)"
   ]
  },
  {
   "cell_type": "code",
   "execution_count": 48,
   "metadata": {},
   "outputs": [
    {
     "data": {
      "image/png": "[encoded data removed]",
      "text/plain": [
       "<Figure size 576x432 with 1 Axes>"
      ]
     },
     "metadata": {
      "needs_background": "light"
     },
     "output_type": "display_data"
    }
   ],
   "source": [
    "x_history = np.array(x_history)\n",
    "plt.figure(figsize=(8, 6))\n",
    "plt.plot(x_history[:, 0], x_history[:, 1], marker='o', color='r', label='Optimization path')\n",
    "plt.xlabel('x1')\n",
    "plt.ylabel('x2')\n",
    "plt.title('Steepest Descent Optimization')\n",
    "plt.legend()\n",
    "plt.grid(True)\n",
    "plt.show()\n"
   ]
  },
  {
   "cell_type": "code",
   "execution_count": 32,
   "metadata": {},
   "outputs": [
    {
     "name": "stdout",
     "output_type": "stream",
     "text": [
      "Optimal solution: [1.62084902e-07 3.24169805e-07]\n",
      "Optimal value: 1.839006089410613e-13\n"
     ]
    }
   ],
   "source": [
    "print(\"Optimal solution:\", x_opt)\n",
    "print(\"Optimal value:\", f_opt)"
   ]
  },
  {
   "cell_type": "code",
   "execution_count": null,
   "metadata": {},
   "outputs": [],
   "source": []
  }
 ],
 "metadata": {
  "kernelspec": {
   "display_name": "Python 3",
   "language": "python",
   "name": "python3"
  },
  "language_info": {
   "codemirror_mode": {
    "name": "ipython",
    "version": 3
   },
   "file_extension": ".py",
   "mimetype": "text/x-python",
   "name": "python",
   "nbconvert_exporter": "python",
   "pygments_lexer": "ipython3",
   "version": "3.8.5"
  }
 },
 "nbformat": 4,
 "nbformat_minor": 4
}
